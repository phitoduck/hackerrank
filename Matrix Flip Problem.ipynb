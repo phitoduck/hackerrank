{
 "cells": [
  {
   "cell_type": "code",
   "execution_count": null,
   "metadata": {},
   "outputs": [],
   "source": [
    "queries = int(input())\n",
    "\n",
    "# simply returns the max of the four values at an index in the upper left\n",
    "# quadrant that COULD be moved there\n",
    "def get_max_corner(i, j, grid):\n",
    "    return max(grid[i][j], grid[2*n - i - 1][j], grid[i][2*n - j - 1], grid[2*n - i - 1][2*n - j - 1])\n",
    "\n",
    "# print for testing\n",
    "def p(grid):\n",
    "    for line in grid:\n",
    "        print(\" \".join(map(str, line)))\n",
    "\n",
    "# runs get_max_corner on all indexes in the upper left quadrant\n",
    "# and sums them\n",
    "def get_answer(grid):\n",
    "    return sum([sum([get_max_corner(i, j, grid) for i in range(n)]) for j in range(n)])\n",
    "        \n",
    "for _ in range(queries):\n",
    "    n = int(input())\n",
    "    grid = [[int(j) for j in input().split()] for i in range(2*n)]\n",
    "\n",
    "    print(get_answer(grid))"
   ]
  }
 ],
 "metadata": {
  "kernelspec": {
   "display_name": "Python 3",
   "language": "python",
   "name": "python3"
  },
  "language_info": {
   "codemirror_mode": {
    "name": "ipython",
    "version": 3
   },
   "file_extension": ".py",
   "mimetype": "text/x-python",
   "name": "python",
   "nbconvert_exporter": "python",
   "pygments_lexer": "ipython3",
   "version": "3.6.6"
  }
 },
 "nbformat": 4,
 "nbformat_minor": 2
}
