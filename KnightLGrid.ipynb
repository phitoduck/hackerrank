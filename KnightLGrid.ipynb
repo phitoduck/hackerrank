{
 "cells": [
  {
   "cell_type": "code",
   "execution_count": 4,
   "metadata": {},
   "outputs": [
    {
     "name": "stdout",
     "output_type": "stream",
     "text": [
      "10\n",
      "9 6 5 8 5 6 7 2 9\n",
      "6 -1 6 -1 10 -1 2 -1 -1\n",
      "5 6 3 6 7 2 13 -1 3\n",
      "8 -1 6 -1 2 -1 -1 -1 -1\n",
      "5 10 7 2 -1 -1 -1 -1 -1\n",
      "6 -1 2 -1 -1 -1 -1 -1 -1\n",
      "7 2 13 -1 -1 -1 -1 -1 -1\n",
      "2 -1 -1 -1 -1 -1 -1 -1 -1\n",
      "9 -1 3 -1 -1 -1 -1 -1 1\n"
     ]
    }
   ],
   "source": [
    "from collections import deque\n",
    "\n",
    "def is_valid_move(loc, move, n):\n",
    "    return loc[0] + move[0] in range(n) and loc[1] + move[1] in range(n)\n",
    "\n",
    "def add_tuples(tup1, tup2):\n",
    "    return tup1[0] + tup2[0], tup1[1] + tup2[1]\n",
    "\n",
    "def knightMinMoves(a, b, n):\n",
    "    \n",
    "    start = (0, 0)\n",
    "    end = (n - 1, n - 1)\n",
    "    \n",
    "    moves = [\n",
    "        (a, b), (-a, b), (a, -b), (-a, -b),\n",
    "        (b, a), (-b, a), (b, -a), (-b, -a)\n",
    "    ]\n",
    "    \n",
    "    Q = deque([ [start] ])\n",
    "    \n",
    "    while len(Q) > 0:\n",
    "        path = Q.pop()\n",
    "        \n",
    "        if path[-1] == end:\n",
    "            return len(path)\n",
    "                \n",
    "        current = path[-1]\n",
    "        for move in moves:\n",
    "            next_move = add_tuples(current, move)\n",
    "            if next_move not in path and is_valid_move(current, move, n):                \n",
    "                if next_move == end:\n",
    "                    return len(path)\n",
    "                else:\n",
    "                    Q.appendleft(path + [next_move])\n",
    "                    \n",
    "    return -1\n",
    "            \n",
    "if __name__ == \"__main__\":\n",
    "    n = int(input().strip())    \n",
    "    output = [[0 for cols in range(n - 1)] for rows in range(n - 1)]\n",
    "    \n",
    "    for a in range(n - 1):\n",
    "        for b in range(a, n - 1):\n",
    "            if (a < n // 2 or b < n // 2):\n",
    "                pass\n",
    "                min_moves = knightMinMoves(a + 1, b + 1, n)\n",
    "                output[a][b] = min_moves\n",
    "                output[b][a] = min_moves\n",
    "            elif a == n - 2 and b == n - 2:\n",
    "                output[a][b] = 1\n",
    "            else:\n",
    "                output[a][b] = -1\n",
    "                output[b][a] = -1\n",
    "            \n",
    "    for row in output:\n",
    "        print(\" \".join(list(map(str, row))))\n",
    "            \n"
   ]
  },
  {
   "cell_type": "code",
   "execution_count": 9,
   "metadata": {},
   "outputs": [
    {
     "data": {
      "text/plain": [
       "[[0, 0, 0, 0, 0],\n",
       " [0, 0, 0, 0, 0],\n",
       " [0, 0, 0, 0, 0],\n",
       " [0, 0, 0, 0, 0],\n",
       " [0, 0, 0, 0, 0]]"
      ]
     },
     "execution_count": 9,
     "metadata": {},
     "output_type": "execute_result"
    }
   ],
   "source": [
    "output = [[0 for cols in range(n)] for rows in range(n)]\n",
    "outputs"
   ]
  },
  {
   "cell_type": "code",
   "execution_count": 10,
   "metadata": {},
   "outputs": [
    {
     "data": {
      "text/plain": [
       "[[0, 0, 0, 0, 0],\n",
       " [0, 0, 0, 0, 0],\n",
       " [0, 0, 0, 0, 0],\n",
       " [0, 0, 5, 0, 0],\n",
       " [0, 0, 0, 0, 0]]"
      ]
     },
     "execution_count": 10,
     "metadata": {},
     "output_type": "execute_result"
    }
   ],
   "source": [
    "outputs[3][2] = 5\n",
    "outputs"
   ]
  },
  {
   "cell_type": "code",
   "execution_count": 4,
   "metadata": {},
   "outputs": [
    {
     "data": {
      "text/plain": [
       "True"
      ]
     },
     "execution_count": 4,
     "metadata": {},
     "output_type": "execute_result"
    }
   ],
   "source": [
    "mov1 = (1, 1)\n",
    "mov2 = (1, 1)\n",
    "is_valid_move(mov1, mov2, 3)"
   ]
  },
  {
   "cell_type": "code",
   "execution_count": 13,
   "metadata": {},
   "outputs": [
    {
     "data": {
      "text/plain": [
       "'{\"name\":\"eric\", \"colleague\":\"kameron\", \"dance-party\":true, \"level\":10}'"
      ]
     },
     "execution_count": 13,
     "metadata": {},
     "output_type": "execute_result"
    }
   ],
   "source": [
    "string = '{\"name\":\"eric\", \"colleague\":\"kameron\", \"dance-party\":true, \"level\":10}'\n",
    "string"
   ]
  },
  {
   "cell_type": "code",
   "execution_count": 14,
   "metadata": {},
   "outputs": [],
   "source": [
    "import json"
   ]
  },
  {
   "cell_type": "code",
   "execution_count": 15,
   "metadata": {},
   "outputs": [],
   "source": [
    "obj = json.loads(string)"
   ]
  },
  {
   "cell_type": "code",
   "execution_count": 17,
   "metadata": {},
   "outputs": [
    {
     "data": {
      "text/plain": [
       "True"
      ]
     },
     "execution_count": 17,
     "metadata": {},
     "output_type": "execute_result"
    }
   ],
   "source": [
    "obj[\"dance-party\"] == True"
   ]
  },
  {
   "cell_type": "code",
   "execution_count": 19,
   "metadata": {},
   "outputs": [],
   "source": [
    "obj[\"level\"]\n",
    "hi = set([1, 2, 3])"
   ]
  },
  {
   "cell_type": "code",
   "execution_count": 22,
   "metadata": {},
   "outputs": [
    {
     "data": {
      "text/plain": [
       "{'name': 'John',\n",
       " 'age': 30,\n",
       " 'married': True,\n",
       " 'divorced': False,\n",
       " 'children': ('Ann', 'Billy'),\n",
       " 'pets': None,\n",
       " 'cars': [{'model': 'BMW 230', 'mpg': 27.5},\n",
       "  {'model': 'Ford Edge', 'mpg': 24.1}]}"
      ]
     },
     "execution_count": 22,
     "metadata": {},
     "output_type": "execute_result"
    }
   ],
   "source": [
    "x = {\n",
    "  \"name\": \"John\",\n",
    "  \"age\": 30,\n",
    "  \"married\": True,\n",
    "  \"divorced\": False,\n",
    "  \"children\": (\"Ann\",\"Billy\"),\n",
    "  \"pets\": None,\n",
    "  \"cars\": [\n",
    "    {\"model\": \"BMW 230\", \"mpg\": 27.5},\n",
    "    {\"model\": \"Ford Edge\", \"mpg\": 24.1}\n",
    "  ]\n",
    "}\n",
    "\n",
    "x"
   ]
  },
  {
   "cell_type": "code",
   "execution_count": 25,
   "metadata": {},
   "outputs": [
    {
     "data": {
      "text/plain": [
       "'{\"name\": \"John\", \"age\": 30, \"married\": true, \"divorced\": false, \"children\": [\"Ann\", \"Billy\"], \"pets\": null, \"cars\": [{\"model\": \"BMW 230\", \"mpg\": 27.5}, {\"model\": \"Ford Edge\", \"mpg\": 24.1}]}'"
      ]
     },
     "execution_count": 25,
     "metadata": {},
     "output_type": "execute_result"
    }
   ],
   "source": [
    "json.dumps(x)"
   ]
  },
  {
   "cell_type": "code",
   "execution_count": 30,
   "metadata": {},
   "outputs": [
    {
     "data": {
      "text/plain": [
       "'{\"script_name\": \"Script\", \"actions\": [{\"index\": \"0\", \"type\": \"Click\", \"xpath\": \"/html/body/div[2]/div/div[1]/div[1]/div/div[1]/img\"}]}'"
      ]
     },
     "execution_count": 30,
     "metadata": {},
     "output_type": "execute_result"
    }
   ],
   "source": [
    "obj = json.loads('{\"script_name\":\"Script\",\"actions\": [{\"index\":\"0\",\"type\":\"Click\",\"xpath\":\"/html/body/div[2]/div/div[1]/div[1]/div/div[1]/img\"}]}')\n",
    "\n",
    "json.dumps(obj)"
   ]
  },
  {
   "cell_type": "code",
   "execution_count": null,
   "metadata": {},
   "outputs": [],
   "source": []
  }
 ],
 "metadata": {
  "kernelspec": {
   "display_name": "Python 3",
   "language": "python",
   "name": "python3"
  },
  "language_info": {
   "codemirror_mode": {
    "name": "ipython",
    "version": 3
   },
   "file_extension": ".py",
   "mimetype": "text/x-python",
   "name": "python",
   "nbconvert_exporter": "python",
   "pygments_lexer": "ipython3",
   "version": "3.7.2"
  }
 },
 "nbformat": 4,
 "nbformat_minor": 2
}
