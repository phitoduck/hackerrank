{
 "cells": [
  {
   "cell_type": "code",
   "execution_count": 56,
   "metadata": {},
   "outputs": [],
   "source": [
    "# Test case:\n",
    "grid = [[1, 0, 1, 0, 1],\n",
    "        [0, 1, 1, 0, 1],\n",
    "        [1, 0, 1, 0, 1],\n",
    "        [1, 1, 0, 0, 1],\n",
    "        [1, 1, 1, 1, 1]]\n",
    "\n"
   ]
  },
  {
   "cell_type": "code",
   "execution_count": 57,
   "metadata": {},
   "outputs": [
    {
     "name": "stdout",
     "output_type": "stream",
     "text": [
      "[1, 0, 1, 0, 1]\n",
      "[0, 1, 1, 0, 1]\n",
      "[1, 0, 1, 0, 1]\n",
      "[1, 1, 0, 0, 1]\n",
      "[1, 1, 1, 1, 1]\n",
      "\n",
      "\n",
      "[0, 0, 0, 0, 0]\n",
      "[0, 0, 0, 0, 0]\n",
      "[0, 0, 0, 0, 0]\n",
      "[0, 0, 0, 0, 0]\n",
      "[0, 0, 0, 0, 0]\n",
      "\n",
      "\n",
      "[17]\n"
     ]
    }
   ],
   "source": [
    "from collections import deque\n",
    "\n",
    "def p(grid):\n",
    "    for line in grid:\n",
    "        print(line)\n",
    "    print()\n",
    "\n",
    "def connectedCell(grid, start):\n",
    "    stack = deque()\n",
    "    count = 0\n",
    "    \n",
    "    m = len(grid)\n",
    "    n = len(grid[0])\n",
    "    stack.append(start)\n",
    "    grid[start[0]][start[1]] = 0\n",
    "    \n",
    "    while True:\n",
    "        if len(stack) == 0: # Is the region finished?\n",
    "            return count\n",
    "\n",
    "        loc = stack.pop() # pop top location\n",
    "        i = loc[0]        \n",
    "        j = loc[1]\n",
    "        count += 1        # count it\n",
    "        \n",
    "#         print(loc)\n",
    "#         p(grid)\n",
    "#         print(stack)\n",
    "\n",
    "        # push valid neighbors, and erase them\n",
    "        if i > 0 and j > 0: # up left\n",
    "            if grid[i - 1][j - 1]: \n",
    "                stack.append((i - 1, j - 1))\n",
    "                grid[i - 1][j - 1] = 0\n",
    "        if j > 0: # left\n",
    "            if grid[i][j - 1]:\n",
    "                stack.append((i, j - 1))\n",
    "                grid[i][j - 1] = 0\n",
    "        if i < m - 1 and j > 0: # down left\n",
    "            if grid[i + 1][j - 1]:\n",
    "                stack.append((i + 1, j - 1))\n",
    "                grid[i + 1][j - 1] = 0\n",
    "        if i < m - 1: # down\n",
    "            if grid[i + 1][j]:\n",
    "                stack.append((i + 1, j))\n",
    "                grid[i + 1][j] = 0\n",
    "        if i < m - 1 and j < n - 1: # down right\n",
    "            if grid[i + 1][j + 1]:\n",
    "                stack.append((i + 1, j + 1))\n",
    "                grid[i + 1][j + 1] = 0\n",
    "        if j < n - 1: # right\n",
    "            if grid[i][j + 1]:\n",
    "                stack.append((i, j + 1))\n",
    "                grid[i][j + 1] = 0\n",
    "        if i > 0 and j < n - 1: # up right\n",
    "            if grid[i - 1][j + 1]:\n",
    "                stack.append((i - 1, j + 1))\n",
    "                grid[i - 1][j + 1] = 0\n",
    "        if i > 0: # up\n",
    "            if grid[i - 1][j] == 1:\n",
    "                stack.append((i - 1, j))\n",
    "                grid[i - 1][j] = 0\n",
    "                \n",
    "\n",
    "\n",
    "# m = int(input())\n",
    "# n = int(input())\n",
    "\n",
    "m = len(grid)\n",
    "n = len(grid[0])\n",
    "\n",
    "# grid = []\n",
    "\n",
    "# get grid\n",
    "\n",
    "# for i in range(m):\n",
    "#     grid.append([int(x) for x in input().strip().split()])\n",
    "\n",
    "regions = []\n",
    "\n",
    "p(grid)\n",
    "print()\n",
    "\n",
    "# iterate through every cell\n",
    "for i in range(m):\n",
    "    for j in range(n):\n",
    "        if grid[i][j] == 1:\n",
    "#             print(f\"{(i, j)} --> {grid[i][j]}\")\n",
    "            regions.append(connectedCell(grid, (i, j)))\n",
    "            p(grid)\n",
    "            print()\n",
    "            \n",
    "print(regions)"
   ]
  },
  {
   "cell_type": "markdown",
   "metadata": {},
   "source": [
    "A = [[1,2,3]]"
   ]
  },
  {
   "cell_type": "code",
   "execution_count": 18,
   "metadata": {},
   "outputs": [],
   "source": [
    "A = [[1,2,3]]"
   ]
  },
  {
   "cell_type": "code",
   "execution_count": 19,
   "metadata": {},
   "outputs": [],
   "source": [
    "B = A"
   ]
  },
  {
   "cell_type": "code",
   "execution_count": 21,
   "metadata": {},
   "outputs": [],
   "source": [
    "B[0][1] = 99"
   ]
  },
  {
   "cell_type": "code",
   "execution_count": 22,
   "metadata": {},
   "outputs": [
    {
     "data": {
      "text/plain": [
       "[[1, 99, 3]]"
      ]
     },
     "execution_count": 22,
     "metadata": {},
     "output_type": "execute_result"
    }
   ],
   "source": [
    "A"
   ]
  },
  {
   "cell_type": "code",
   "execution_count": 2,
   "metadata": {},
   "outputs": [
    {
     "ename": "ValueError",
     "evalue": "not enough values to unpack (expected 2, got 0)",
     "output_type": "error",
     "traceback": [
      "\u001b[0;31m---------------------------------------------------------------------------\u001b[0m",
      "\u001b[0;31mValueError\u001b[0m                                Traceback (most recent call last)",
      "\u001b[0;32m<ipython-input-2-9c52f71fe8c7>\u001b[0m in \u001b[0;36m<module>\u001b[0;34m()\u001b[0m\n\u001b[1;32m     20\u001b[0m \u001b[0;34m\u001b[0m\u001b[0m\n\u001b[1;32m     21\u001b[0m \u001b[0;32mif\u001b[0m \u001b[0m__name__\u001b[0m \u001b[0;34m==\u001b[0m \u001b[0;34m\"__main__\"\u001b[0m\u001b[0;34m:\u001b[0m\u001b[0;34m\u001b[0m\u001b[0m\n\u001b[0;32m---> 22\u001b[0;31m     \u001b[0mmain\u001b[0m\u001b[0;34m(\u001b[0m\u001b[0;34m)\u001b[0m\u001b[0;34m\u001b[0m\u001b[0m\n\u001b[0m",
      "\u001b[0;32m<ipython-input-2-9c52f71fe8c7>\u001b[0m in \u001b[0;36mmain\u001b[0;34m()\u001b[0m\n\u001b[1;32m     13\u001b[0m \u001b[0;32mdef\u001b[0m \u001b[0mmain\u001b[0m\u001b[0;34m(\u001b[0m\u001b[0;34m)\u001b[0m\u001b[0;34m:\u001b[0m\u001b[0;34m\u001b[0m\u001b[0m\n\u001b[1;32m     14\u001b[0m     \u001b[0mdims\u001b[0m \u001b[0;34m=\u001b[0m \u001b[0;34m[\u001b[0m\u001b[0mint\u001b[0m\u001b[0;34m(\u001b[0m\u001b[0mi\u001b[0m\u001b[0;34m)\u001b[0m \u001b[0;32mfor\u001b[0m \u001b[0mi\u001b[0m \u001b[0;32min\u001b[0m \u001b[0msys\u001b[0m\u001b[0;34m.\u001b[0m\u001b[0mstdin\u001b[0m\u001b[0;34m.\u001b[0m\u001b[0mreadline\u001b[0m\u001b[0;34m(\u001b[0m\u001b[0;34m)\u001b[0m\u001b[0;34m.\u001b[0m\u001b[0msplit\u001b[0m\u001b[0;34m(\u001b[0m\u001b[0;34m)\u001b[0m\u001b[0;34m]\u001b[0m\u001b[0;34m\u001b[0m\u001b[0m\n\u001b[0;32m---> 15\u001b[0;31m     \u001b[0mnum_rows\u001b[0m\u001b[0;34m,\u001b[0m \u001b[0mnum_cols\u001b[0m \u001b[0;34m=\u001b[0m \u001b[0mdims\u001b[0m\u001b[0;34m\u001b[0m\u001b[0m\n\u001b[0m\u001b[1;32m     16\u001b[0m     \u001b[0mgrid\u001b[0m \u001b[0;34m=\u001b[0m \u001b[0;34m[\u001b[0m\u001b[0;34m[\u001b[0m\u001b[0mint\u001b[0m\u001b[0;34m(\u001b[0m\u001b[0mi\u001b[0m\u001b[0;34m)\u001b[0m \u001b[0;32mfor\u001b[0m \u001b[0mi\u001b[0m \u001b[0;32min\u001b[0m \u001b[0msys\u001b[0m\u001b[0;34m.\u001b[0m\u001b[0mstdin\u001b[0m\u001b[0;34m.\u001b[0m\u001b[0mreadline\u001b[0m\u001b[0;34m(\u001b[0m\u001b[0;34m)\u001b[0m\u001b[0;34m.\u001b[0m\u001b[0msplit\u001b[0m\u001b[0;34m(\u001b[0m\u001b[0;34m)\u001b[0m\u001b[0;34m]\u001b[0m \u001b[0;32mfor\u001b[0m \u001b[0m_\u001b[0m \u001b[0;32min\u001b[0m \u001b[0mrange\u001b[0m\u001b[0;34m(\u001b[0m\u001b[0mnum_rows\u001b[0m\u001b[0;34m)\u001b[0m\u001b[0;34m]\u001b[0m\u001b[0;34m\u001b[0m\u001b[0m\n\u001b[1;32m     17\u001b[0m \u001b[0;34m\u001b[0m\u001b[0m\n",
      "\u001b[0;31mValueError\u001b[0m: not enough values to unpack (expected 2, got 0)"
     ]
    }
   ],
   "source": [
    "import sys\n",
    "import re\n",
    "\n",
    "def longest_subsequence(grid):\n",
    "    \"\"\"\n",
    "    Take a rectangular grid of numbers and find the length\n",
    "    of the longest sequence.\n",
    "    Return the length as an integer.\n",
    "    \"\"\"\n",
    "    # TODO: Complete this function\n",
    "    return 0\n",
    "\n",
    "def main():\n",
    "    dims = [int(i) for i in sys.stdin.readline().split()]\n",
    "    num_rows, num_cols = dims\n",
    "    grid = [[int(i) for i in sys.stdin.readline().split()] for _ in range(num_rows)]\n",
    "\n",
    "    res = longest_subsequence(grid)\n",
    "    print(str(res) + \"\\n\")\n",
    "\n",
    "if __name__ == \"__main__\":\n",
    "    main()"
   ]
  },
  {
   "cell_type": "code",
   "execution_count": 1,
   "metadata": {},
   "outputs": [
    {
     "ename": "KeyboardInterrupt",
     "evalue": "",
     "output_type": "error",
     "traceback": [
      "\u001b[0;31m---------------------------------------------------------------------------\u001b[0m",
      "\u001b[0;31mKeyboardInterrupt\u001b[0m                         Traceback (most recent call last)",
      "\u001b[0;32m/anaconda3/lib/python3.6/site-packages/ipykernel/kernelbase.py\u001b[0m in \u001b[0;36m_input_request\u001b[0;34m(self, prompt, ident, parent, password)\u001b[0m\n\u001b[1;32m    728\u001b[0m             \u001b[0;32mtry\u001b[0m\u001b[0;34m:\u001b[0m\u001b[0;34m\u001b[0m\u001b[0m\n\u001b[0;32m--> 729\u001b[0;31m                 \u001b[0mident\u001b[0m\u001b[0;34m,\u001b[0m \u001b[0mreply\u001b[0m \u001b[0;34m=\u001b[0m \u001b[0mself\u001b[0m\u001b[0;34m.\u001b[0m\u001b[0msession\u001b[0m\u001b[0;34m.\u001b[0m\u001b[0mrecv\u001b[0m\u001b[0;34m(\u001b[0m\u001b[0mself\u001b[0m\u001b[0;34m.\u001b[0m\u001b[0mstdin_socket\u001b[0m\u001b[0;34m,\u001b[0m \u001b[0;36m0\u001b[0m\u001b[0;34m)\u001b[0m\u001b[0;34m\u001b[0m\u001b[0m\n\u001b[0m\u001b[1;32m    730\u001b[0m             \u001b[0;32mexcept\u001b[0m \u001b[0mException\u001b[0m\u001b[0;34m:\u001b[0m\u001b[0;34m\u001b[0m\u001b[0m\n",
      "\u001b[0;32m/anaconda3/lib/python3.6/site-packages/jupyter_client/session.py\u001b[0m in \u001b[0;36mrecv\u001b[0;34m(self, socket, mode, content, copy)\u001b[0m\n\u001b[1;32m    802\u001b[0m         \u001b[0;32mtry\u001b[0m\u001b[0;34m:\u001b[0m\u001b[0;34m\u001b[0m\u001b[0m\n\u001b[0;32m--> 803\u001b[0;31m             \u001b[0mmsg_list\u001b[0m \u001b[0;34m=\u001b[0m \u001b[0msocket\u001b[0m\u001b[0;34m.\u001b[0m\u001b[0mrecv_multipart\u001b[0m\u001b[0;34m(\u001b[0m\u001b[0mmode\u001b[0m\u001b[0;34m,\u001b[0m \u001b[0mcopy\u001b[0m\u001b[0;34m=\u001b[0m\u001b[0mcopy\u001b[0m\u001b[0;34m)\u001b[0m\u001b[0;34m\u001b[0m\u001b[0m\n\u001b[0m\u001b[1;32m    804\u001b[0m         \u001b[0;32mexcept\u001b[0m \u001b[0mzmq\u001b[0m\u001b[0;34m.\u001b[0m\u001b[0mZMQError\u001b[0m \u001b[0;32mas\u001b[0m \u001b[0me\u001b[0m\u001b[0;34m:\u001b[0m\u001b[0;34m\u001b[0m\u001b[0m\n",
      "\u001b[0;32m/anaconda3/lib/python3.6/site-packages/zmq/sugar/socket.py\u001b[0m in \u001b[0;36mrecv_multipart\u001b[0;34m(self, flags, copy, track)\u001b[0m\n\u001b[1;32m    466\u001b[0m         \"\"\"\n\u001b[0;32m--> 467\u001b[0;31m         \u001b[0mparts\u001b[0m \u001b[0;34m=\u001b[0m \u001b[0;34m[\u001b[0m\u001b[0mself\u001b[0m\u001b[0;34m.\u001b[0m\u001b[0mrecv\u001b[0m\u001b[0;34m(\u001b[0m\u001b[0mflags\u001b[0m\u001b[0;34m,\u001b[0m \u001b[0mcopy\u001b[0m\u001b[0;34m=\u001b[0m\u001b[0mcopy\u001b[0m\u001b[0;34m,\u001b[0m \u001b[0mtrack\u001b[0m\u001b[0;34m=\u001b[0m\u001b[0mtrack\u001b[0m\u001b[0;34m)\u001b[0m\u001b[0;34m]\u001b[0m\u001b[0;34m\u001b[0m\u001b[0m\n\u001b[0m\u001b[1;32m    468\u001b[0m         \u001b[0;31m# have first part already, only loop while more to receive\u001b[0m\u001b[0;34m\u001b[0m\u001b[0;34m\u001b[0m\u001b[0m\n",
      "\u001b[0;32mzmq/backend/cython/socket.pyx\u001b[0m in \u001b[0;36mzmq.backend.cython.socket.Socket.recv\u001b[0;34m()\u001b[0m\n",
      "\u001b[0;32mzmq/backend/cython/socket.pyx\u001b[0m in \u001b[0;36mzmq.backend.cython.socket.Socket.recv\u001b[0;34m()\u001b[0m\n",
      "\u001b[0;32mzmq/backend/cython/socket.pyx\u001b[0m in \u001b[0;36mzmq.backend.cython.socket._recv_copy\u001b[0;34m()\u001b[0m\n",
      "\u001b[0;32m/anaconda3/lib/python3.6/site-packages/zmq/backend/cython/checkrc.pxd\u001b[0m in \u001b[0;36mzmq.backend.cython.checkrc._check_rc\u001b[0;34m()\u001b[0m\n",
      "\u001b[0;31mKeyboardInterrupt\u001b[0m: ",
      "\nDuring handling of the above exception, another exception occurred:\n",
      "\u001b[0;31mKeyboardInterrupt\u001b[0m                         Traceback (most recent call last)",
      "\u001b[0;32m<ipython-input-1-d0306c8573f9>\u001b[0m in \u001b[0;36m<module>\u001b[0;34m()\u001b[0m\n\u001b[1;32m     23\u001b[0m \u001b[0;34m\u001b[0m\u001b[0m\n\u001b[1;32m     24\u001b[0m \u001b[0;31m# Get dimensions\u001b[0m\u001b[0;34m\u001b[0m\u001b[0;34m\u001b[0m\u001b[0m\n\u001b[0;32m---> 25\u001b[0;31m \u001b[0mR\u001b[0m\u001b[0;34m,\u001b[0m \u001b[0mC\u001b[0m \u001b[0;34m=\u001b[0m \u001b[0;34m[\u001b[0m\u001b[0mint\u001b[0m\u001b[0;34m(\u001b[0m\u001b[0mx\u001b[0m\u001b[0;34m)\u001b[0m \u001b[0;32mfor\u001b[0m \u001b[0mx\u001b[0m \u001b[0;32min\u001b[0m \u001b[0minput\u001b[0m\u001b[0;34m(\u001b[0m\u001b[0;34m)\u001b[0m\u001b[0;34m.\u001b[0m\u001b[0msplit\u001b[0m\u001b[0;34m(\u001b[0m\u001b[0;34m)\u001b[0m\u001b[0;34m]\u001b[0m\u001b[0;34m\u001b[0m\u001b[0m\n\u001b[0m\u001b[1;32m     26\u001b[0m \u001b[0;34m\u001b[0m\u001b[0m\n\u001b[1;32m     27\u001b[0m \u001b[0mgrid\u001b[0m \u001b[0;34m=\u001b[0m \u001b[0;34m[\u001b[0m\u001b[0;34m]\u001b[0m\u001b[0;34m\u001b[0m\u001b[0m\n",
      "\u001b[0;32m/anaconda3/lib/python3.6/site-packages/ipykernel/kernelbase.py\u001b[0m in \u001b[0;36mraw_input\u001b[0;34m(self, prompt)\u001b[0m\n\u001b[1;32m    702\u001b[0m             \u001b[0mself\u001b[0m\u001b[0;34m.\u001b[0m\u001b[0m_parent_ident\u001b[0m\u001b[0;34m,\u001b[0m\u001b[0;34m\u001b[0m\u001b[0m\n\u001b[1;32m    703\u001b[0m             \u001b[0mself\u001b[0m\u001b[0;34m.\u001b[0m\u001b[0m_parent_header\u001b[0m\u001b[0;34m,\u001b[0m\u001b[0;34m\u001b[0m\u001b[0m\n\u001b[0;32m--> 704\u001b[0;31m             \u001b[0mpassword\u001b[0m\u001b[0;34m=\u001b[0m\u001b[0;32mFalse\u001b[0m\u001b[0;34m,\u001b[0m\u001b[0;34m\u001b[0m\u001b[0m\n\u001b[0m\u001b[1;32m    705\u001b[0m         )\n\u001b[1;32m    706\u001b[0m \u001b[0;34m\u001b[0m\u001b[0m\n",
      "\u001b[0;32m/anaconda3/lib/python3.6/site-packages/ipykernel/kernelbase.py\u001b[0m in \u001b[0;36m_input_request\u001b[0;34m(self, prompt, ident, parent, password)\u001b[0m\n\u001b[1;32m    732\u001b[0m             \u001b[0;32mexcept\u001b[0m \u001b[0mKeyboardInterrupt\u001b[0m\u001b[0;34m:\u001b[0m\u001b[0;34m\u001b[0m\u001b[0m\n\u001b[1;32m    733\u001b[0m                 \u001b[0;31m# re-raise KeyboardInterrupt, to truncate traceback\u001b[0m\u001b[0;34m\u001b[0m\u001b[0;34m\u001b[0m\u001b[0m\n\u001b[0;32m--> 734\u001b[0;31m                 \u001b[0;32mraise\u001b[0m \u001b[0mKeyboardInterrupt\u001b[0m\u001b[0;34m\u001b[0m\u001b[0m\n\u001b[0m\u001b[1;32m    735\u001b[0m             \u001b[0;32melse\u001b[0m\u001b[0;34m:\u001b[0m\u001b[0;34m\u001b[0m\u001b[0m\n\u001b[1;32m    736\u001b[0m                 \u001b[0;32mbreak\u001b[0m\u001b[0;34m\u001b[0m\u001b[0m\n",
      "\u001b[0;31mKeyboardInterrupt\u001b[0m: "
     ]
    }
   ],
   "source": [
    "####################################################\n",
    "# This problem was AWESOME! It was an awesome chance to apply what\n",
    "# I've been learning about graph theory to an interesting puzzle.\n",
    "  \n",
    "# The algorithm is like this:\n",
    "    \n",
    "#     1) We convert the matrix into a graph with nodes connecting if\n",
    "#     and only if the difference between their values is strictly\n",
    "#     greater than 3. (This is represented as a dictionary T)\n",
    "    \n",
    "#     2) We loop through each entry of the matrix.  O(R * C)\n",
    "    \n",
    "#     3) On each entry, we enter into depth first search:\n",
    "#        We find the longest existing path from each value,\n",
    "#        and update the \"longest_path\" as we go.\n",
    "\n",
    "#     4) We print the length of the longest path found,\n",
    "#        which is a list of tuples.\n",
    "\n",
    "####################################################\n",
    "\n",
    "from collections import deque\n",
    "\n",
    "# Get dimensions\n",
    "R, C = [int(x) for x in input().split()]\n",
    "\n",
    "grid = []\n",
    "for i in range(R):\n",
    "    grid.append([int(x) for x in input().split()])\n",
    "    \n",
    "def p(grid):\n",
    "    for line in grid:\n",
    "        print(line)\n",
    "    print()\n",
    "    \n",
    "# Graph of matrix\n",
    "G = {}\n",
    "T = {}\n",
    "\n",
    "    \n",
    "\n",
    "def make_dict_tup(grid):\n",
    "    \"\"\"Converts the matrix into a graph of TUPLES by updating the global dictionary G.\n",
    "    \n",
    "    The key tuples are coordinates mapping to lists of tuples to which they are validly\n",
    "    connected.\"\"\"\n",
    "    m = len(grid)\n",
    "    n = len(grid[0])\n",
    "    \n",
    "    for i in range(m):\n",
    "        for j in range(n):\n",
    "            \n",
    "            # N is neighbors\n",
    "            N = []\n",
    "            node = grid[i][j]\n",
    "            tup = (i, j)\n",
    "            \n",
    "            if i > 0 and j > 0: # up left\n",
    "                if abs(grid[i - 1][j - 1] - node) > 3: \n",
    "                    N.append( (i - 1, j - 1) )\n",
    "            if j > 0: # left\n",
    "                if abs(grid[i][j - 1] - node) > 3:\n",
    "                    N.append( (i, j - 1) )\n",
    "            if i < m - 1 and j > 0: # down left\n",
    "                if abs(grid[i + 1][j - 1] - node) > 3:\n",
    "                    N.append( (i + 1, j - 1) )\n",
    "            if i < m - 1: # down\n",
    "                if abs(grid[i + 1][j] - node) > 3:\n",
    "                    N.append( (i + 1, j) )\n",
    "            if i < m - 1 and j < n - 1: # down right\n",
    "                if abs(grid[i + 1][j + 1] - node) > 3:\n",
    "                    N.append( (i + 1, j + 1) )\n",
    "            if j < n - 1: # right\n",
    "                if abs(grid[i][j + 1] - node) > 3:\n",
    "                    N.append( (i, j + 1) )\n",
    "            if i > 0 and j < n - 1: # up right\n",
    "                if abs(grid[i - 1][j + 1] - node) > 3:\n",
    "                    N.append( (i - 1, j + 1) )\n",
    "            if i > 0: # up\n",
    "                if abs(grid[i - 1][j] - node) > 3:\n",
    "                    N.append( (i - 1, j) )\n",
    "                    \n",
    "            T[tup] = N    \n",
    "    \n",
    "def make_dict(grid):\n",
    "    \"\"\"Converts the matrix into a graph of NUMBERS by updating the global dictionary G.\n",
    "    \n",
    "    The key NUMBERS are coordinates mapping to lists of NUMBERS to which they are validly\n",
    "    connected.\"\"\"\n",
    "    m = len(grid)\n",
    "    n = len(grid[0])\n",
    "    \n",
    "    for i in range(m):\n",
    "        for j in range(n):\n",
    "            \n",
    "            # N is neighbors\n",
    "            N = []\n",
    "            node = grid[i][j]\n",
    "            tup = (i, j)\n",
    "            \n",
    "            if i > 0 and j > 0: # up left\n",
    "                if abs(grid[i - 1][j - 1] - node) > 3: \n",
    "                    N.append(grid[i - 1][j - 1])\n",
    "            if j > 0: # left\n",
    "                if abs(grid[i][j - 1] - node) > 3:\n",
    "                    N.append(grid[i][j - 1])\n",
    "            if i < m - 1 and j > 0: # down left\n",
    "                if abs(grid[i + 1][j - 1] - node) > 3:\n",
    "                    N.append(grid[i + 1][j - 1])\n",
    "            if i < m - 1: # down\n",
    "                if abs(grid[i + 1][j] - node) > 3:\n",
    "                    N.append(grid[i + 1][j])\n",
    "            if i < m - 1 and j < n - 1: # down right\n",
    "                if abs(grid[i + 1][j + 1] - node) > 3:\n",
    "                    N.append(grid[i + 1][j + 1])\n",
    "            if j < n - 1: # right\n",
    "                if abs(grid[i][j + 1] - node) > 3:\n",
    "                    N.append(grid[i][j + 1])\n",
    "            if i > 0 and j < n - 1: # up r\n",
    "                ight\n",
    "                if abs(grid[i - 1][j + 1] - node) > 3:\n",
    "                    N.append(grid[i - 1][j + 1])\n",
    "            if i > 0: # up\n",
    "                if abs(grid[i - 1][j] - node) > 3:\n",
    "                    N.append(grid[i - 1][j])\n",
    "                    \n",
    "            G[node] = N\n",
    "            \n",
    "def find_longest_path( tup ):\n",
    "    \"\"\"Returns the longest path in the graph from a given starting node.\n",
    "    \n",
    "    Method: Breadth First Search\"\"\"\n",
    "    stack = deque()\n",
    "    stack.append( [tup] )\n",
    "    longest_path = [tup]\n",
    "    \n",
    "    while len(stack) > 0:\n",
    "        path = stack.pop()\n",
    "        # print(path)\n",
    "        # print(path[-1])\n",
    "        for el in T[path[-1]]:\n",
    "            if el not in path:\n",
    "                stack.append(path + [el])\n",
    "                \n",
    "                # return if this is of max possible length\n",
    "                if len(path + [el]) == R * C:\n",
    "                    return path + [el]\n",
    "                \n",
    "        if len(path) > len(longest_path):\n",
    "            longest_path = path\n",
    "            \n",
    "        if len(longest_path) == R * C:\n",
    "            return longest_path\n",
    "        \n",
    "    return longest_path\n",
    "    \n",
    "    \n",
    "# make grid as dict\n",
    "make_dict(grid)\n",
    "make_dict_tup(grid)\n",
    "    \n",
    "# loop through values\n",
    "longest_path = []\n",
    "\n",
    "for i in range(R):\n",
    "    for j in range(C):\n",
    "        # val = grid[i][j]\n",
    "        tup = (i, j)\n",
    "        new_path = find_longest_path( tup )\n",
    "        if len(new_path) > len(longest_path):\n",
    "            longest_path = new_path\n",
    "\n",
    "# print statements to test code            \n",
    "\n",
    "# print(\"G: \", G)\n",
    "# print(\"T: \", T)\n",
    "            \n",
    "# print(longest_path)\n",
    "# for x in longest_path:\n",
    "#     print(grid[x[0]][x[1]])\n",
    "\n",
    "print(len(longest_path))\n",
    "        \n",
    "        \n",
    "\n"
   ]
  },
  {
   "cell_type": "code",
   "execution_count": 8,
   "metadata": {},
   "outputs": [
    {
     "name": "stdout",
     "output_type": "stream",
     "text": [
      "{'T': 1, 'h': 3, 'e': 5, ' ': 7, 'a': 1, 'r': 4, 'd': 1, 'I': 2, 'w': 1, 'o': 1, 'k': 2, ',': 1, 't': 2, 'l': 1, 'u': 1, 'c': 1, 'i': 1, 'g': 1, '.': 1}\n",
      "{'T': 1/37, 'h': 3/37, 'e': 5/37, ' ': 7/37, 'a': 1/37, 'r': 4/37, 'd': 1/37, 'I': 2/37, 'w': 1/37, 'o': 1/37, 'k': 2/37, ',': 1/37, 't': 2/37, 'l': 1/37, 'u': 1/37, 'c': 1/37, 'i': 1/37, 'g': 1/37, '.': 1/37}\n"
     ]
    }
   ],
   "source": [
    "from queue import PriorityQueue\n",
    "import sympy as sy\n",
    "\n",
    "string = \"The harder I work, the luckier I get.\"\n",
    "\n",
    "G = {char: 0 for char in string}\n",
    "probs = {}\n",
    "\n",
    "for char in string:\n",
    "    G[char] += 1\n",
    "    \n",
    "print(G)\n",
    "\n",
    "for key in G.keys():\n",
    "    probs[key] = G[key] / sy.S(len(string))\n",
    "    \n",
    "print(probs)\n",
    "\n"
   ]
  },
  {
   "cell_type": "code",
   "execution_count": 1,
   "metadata": {},
   "outputs": [
    {
     "ename": "SyntaxError",
     "evalue": "invalid syntax (<ipython-input-1-31d2aee6e4eb>, line 55)",
     "output_type": "error",
     "traceback": [
      "\u001b[0;36m  File \u001b[0;32m\"<ipython-input-1-31d2aee6e4eb>\"\u001b[0;36m, line \u001b[0;32m55\u001b[0m\n\u001b[0;31m    if node is not in visited:\u001b[0m\n\u001b[0m                    ^\u001b[0m\n\u001b[0;31mSyntaxError\u001b[0m\u001b[0;31m:\u001b[0m invalid syntax\n"
     ]
    }
   ],
   "source": [
    "# Pacman problem\n",
    "\n",
    "from collections import deque\n",
    "\n",
    "P = list(map(int, input().strip().split()))\n",
    "food = list(map(int, input().strip().split()))\n",
    "rows, cols = list(map(int, input().strip().split()))\n",
    "\n",
    "grid = [[x for x in input()] for _ in range(rows)]\n",
    "\n",
    "\n",
    "\n",
    "def make_graph(grid, rows, cols):\n",
    "    graph = dict()\n",
    "    \n",
    "    for i in rows:\n",
    "        for j in cols:\n",
    "            if grid[i][j] == '%':\n",
    "                continue\n",
    "                \n",
    "            loc = (i, j)\n",
    "            valid = ['-', 'P', '.']\n",
    "            \n",
    "            if i > 0: # UP\n",
    "                if grid[i - 1][j] in valid:\n",
    "                    graph[loc].append( (i - 1, j) ) \n",
    "            if j > 0: # LEFT\n",
    "                if grid[i][j - 1] in valid:\n",
    "                    graph[loc].append( (i, j - 1) )\n",
    "            if j < cols: # RIGHT\n",
    "                if grid[i][i + 1] in valid:\n",
    "                    graph[loc].append( (i, i + 1) )\n",
    "            if i < rows: # DOWN\n",
    "                if grid[i + 1][j] in valid:\n",
    "                    graph[loc].append( (i + 1, j) )\n",
    "                    \n",
    "    return graph\n",
    "                \n",
    "def find_food(graph, pacman, food):\n",
    "    Q = deque()\n",
    "    Q.append(pacman)\n",
    "    \n",
    "    explorePath = []\n",
    "    foodPath = []\n",
    "    \n",
    "    visited = set()\n",
    "    \n",
    "    while len(Q) > 0:\n",
    "        \n",
    "        loc = Q.pop()\n",
    "        visited.add(loc)\n",
    "        \n",
    "        explorePath.append( loc )\n",
    "        for node in graph[loc]:\n",
    "            if node is not in visited:\n",
    "                explorePath.append(node)\n",
    "    \n",
    "    return explorePath, foodPath\n",
    "            \n",
    "                \n",
    "\n"
   ]
  },
  {
   "cell_type": "code",
   "execution_count": 4,
   "metadata": {},
   "outputs": [
    {
     "data": {
      "text/plain": [
       "1"
      ]
     },
     "execution_count": 4,
     "metadata": {},
     "output_type": "execute_result"
    }
   ],
   "source": [
    "2017**10000000 % 7"
   ]
  },
  {
   "cell_type": "code",
   "execution_count": 19,
   "metadata": {},
   "outputs": [
    {
     "data": {
      "text/plain": [
       "Matrix([\n",
       "[-15, -3,  3],\n",
       "[ -3, 15, -2]])"
      ]
     },
     "execution_count": 19,
     "metadata": {},
     "output_type": "execute_result"
    }
   ],
   "source": [
    "import sympy as sy\n",
    "\n",
    "A = sy.Matrix([[-15, -3, 3],[-3, 15, -2]])\n",
    "A"
   ]
  },
  {
   "cell_type": "code",
   "execution_count": 20,
   "metadata": {},
   "outputs": [
    {
     "data": {
      "text/plain": [
       "(Matrix([\n",
       " [1, 0, -1/6],\n",
       " [0, 1, -1/6]]), (0, 1))"
      ]
     },
     "execution_count": 20,
     "metadata": {},
     "output_type": "execute_result"
    }
   ],
   "source": [
    "A.rref()"
   ]
  },
  {
   "cell_type": "code",
   "execution_count": 22,
   "metadata": {},
   "outputs": [
    {
     "name": "stdout",
     "output_type": "stream",
     "text": [
      "\n",
      " (46.0, [(4, 16), (6, 30)])\n"
     ]
    }
   ],
   "source": [
    "import numpy as np\n",
    "\n",
    "def knapsack_problem(max_weight, items):\n",
    "    \"\"\"\n",
    "    Parameters:\n",
    "        max_weight (int): non-negative\n",
    "        items (list): a list of tuples (weight, value); the weight and value of a given item\n",
    "    \"\"\"\n",
    "\n",
    "    n = len(items)\n",
    "    #convert items list to a dictionary\n",
    "    items_dict = {}\n",
    "    for item in items:\n",
    "        items_dict[item[0]] = item[1]\n",
    "    \n",
    "    #set up the matrix\n",
    "    solutions = np.zeros((n+1,max_weight+1))\n",
    "\n",
    "    #the main algorithm\n",
    "    for i, (weight, value) in enumerate(items):\n",
    "        for current_max in range(max_weight + 1):\n",
    "            if weight > current_max:\n",
    "                solutions[i+1][current_max] = solutions[i][current_max]\n",
    "            else:\n",
    "                solutions[i+1][current_max] = max(solutions[i][current_max], value + solutions[i-1][current_max - weight])\n",
    "\n",
    "    items_included = []\n",
    "    j = max_weight\n",
    "    for i in range(n, 0, -1):\n",
    "        if solutions[i][j] != solutions[i-1][j]:\n",
    "            items_included.append(items[i-1])\n",
    "            j -= items[i-1][0]\n",
    "\n",
    "    return (solutions[n, max_weight], items_included)\n",
    "\n",
    "if __name__ == \"__main__\":\n",
    "    print('\\n', knapsack_problem(20, [(6,30), (3,14), (4,16), (2,9)]))"
   ]
  },
  {
   "cell_type": "code",
   "execution_count": 53,
   "metadata": {},
   "outputs": [
    {
     "data": {
      "text/plain": [
       "array([[-2*(1 + sqrt(3))**2/(2 + (1 + sqrt(3))**2) + 1,\n",
       "        -2*(1 + sqrt(3))/(2 + (1 + sqrt(3))**2),\n",
       "        -2*(1 + sqrt(3))/(2 + (1 + sqrt(3))**2)],\n",
       "       [-2*(1 + sqrt(3))/(2 + (1 + sqrt(3))**2),\n",
       "        -2/(2 + (1 + sqrt(3))**2) + 1, -2/(2 + (1 + sqrt(3))**2)],\n",
       "       [-2*(1 + sqrt(3))/(2 + (1 + sqrt(3))**2),\n",
       "        -2/(2 + (1 + sqrt(3))**2), -2/(2 + (1 + sqrt(3))**2) + 1]],\n",
       "      dtype=object)"
      ]
     },
     "execution_count": 53,
     "metadata": {},
     "output_type": "execute_result"
    }
   ],
   "source": [
    "import sympy as sy\n",
    "from sympy import sqrt\n",
    "\n",
    "v = sy.Matrix([1 + sqrt(sy.S(3)), 1, 1])\n",
    "\n",
    "H = sy.eye(3) - 2/(v.T @ v)[0] * (v @ v.T)\n",
    "np.array(H)"
   ]
  },
  {
   "cell_type": "code",
   "execution_count": null,
   "metadata": {},
   "outputs": [],
   "source": []
  }
 ],
 "metadata": {
  "kernelspec": {
   "display_name": "Python 3",
   "language": "python",
   "name": "python3"
  },
  "language_info": {
   "codemirror_mode": {
    "name": "ipython",
    "version": 3
   },
   "file_extension": ".py",
   "mimetype": "text/x-python",
   "name": "python",
   "nbconvert_exporter": "python",
   "pygments_lexer": "ipython3",
   "version": "3.6.6"
  }
 },
 "nbformat": 4,
 "nbformat_minor": 2
}
