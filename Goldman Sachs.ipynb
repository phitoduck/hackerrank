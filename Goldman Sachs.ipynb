{
 "cells": [
  {
   "cell_type": "code",
   "execution_count": 5,
   "metadata": {},
   "outputs": [
    {
     "data": {
      "text/plain": [
       "2.7683641718903784"
      ]
     },
     "execution_count": 5,
     "metadata": {},
     "output_type": "execute_result"
    }
   ],
   "source": [
    "import math\n",
    "\n",
    "result = 6\n",
    "for n in range(99999):\n",
    "    result = math.sqrt(6 + math.sqrt(result))\n",
    "result"
   ]
  },
  {
   "cell_type": "code",
   "execution_count": 38,
   "metadata": {},
   "outputs": [
    {
     "name": "stdout",
     "output_type": "stream",
     "text": [
      "{1: 1, 2: 1, 3: 1}\n",
      "total games 3.0\n",
      "high 1\n"
     ]
    },
    {
     "data": {
      "text/plain": [
       "'0.33'"
      ]
     },
     "execution_count": 38,
     "metadata": {},
     "output_type": "execute_result"
    }
   ],
   "source": [
    "from math import factorial as f\n",
    "\n",
    "def findMaxGoalsProbability(teamGoals):\n",
    "    scores = dict()\n",
    "    for goal in teamGoals:\n",
    "        if goal in scores.keys():\n",
    "            scores[goal] += 1\n",
    "        else: \n",
    "            scores[goal] = 1\n",
    "    \n",
    "    print(scores)\n",
    "    \n",
    "    n = len(teamGoals)\n",
    "    total_games = f(n) / (2 * f(n - 2))\n",
    "    print(\"total games\", total_games)\n",
    "    high_games = 0\n",
    "    \n",
    "    max1 = max(scores.keys())\n",
    "    max1_count = scores[max1]\n",
    "    if max1_count > 1:\n",
    "        # only one max\n",
    "        high_games = f(max1_count) / (2 * f(max1_count - 2))\n",
    "    else:\n",
    "        scores[max1] = -1\n",
    "        max2 = max(set(scores.keys()) - set([max1]))\n",
    "        max2_count = scores[max2]\n",
    "        high_games = max2_count\n",
    "    \n",
    "    print(\"high\", high_games)\n",
    "    \n",
    "    result = high_games / total_games\n",
    "    return \"%.2f\" % result\n",
    "    \n",
    "    \n",
    "    if result == 1:\n",
    "        return \"1.00\"\n",
    "    else:\n",
    "        return str(result)[:4]\n",
    "    \n",
    "    \n",
    "        \n",
    "    \n",
    "teamGoals = [1, 2, 3]\n",
    "\n",
    "findMaxGoalsProbability(teamGoals)"
   ]
  },
  {
   "cell_type": "code",
   "execution_count": 60,
   "metadata": {},
   "outputs": [
    {
     "data": {
      "text/plain": [
       "0"
      ]
     },
     "execution_count": 60,
     "metadata": {},
     "output_type": "execute_result"
    }
   ],
   "source": [
    "def worstPerformingStock(prices):\n",
    "    if len(prices) > 1:\n",
    "        results = { ((stock[2] - stock[1]) / stock[1]) : (index, stock[0]) for index, stock in enumerate(prices) }\n",
    "        print(results)\n",
    "        return results[ min(results.keys()) ][1]\n",
    "    else:\n",
    "        return 0\n",
    "        \n",
    "prices = [\n",
    "#     [1200, 100, 105]\n",
    "#     [1400, 50, 55],\n",
    "#     [1201, 101, 105]\n",
    "]\n",
    "\n",
    "worstPerformingStock(prices)"
   ]
  },
  {
   "cell_type": "code",
   "execution_count": 53,
   "metadata": {},
   "outputs": [
    {
     "data": {
      "text/plain": [
       "0.05"
      ]
     },
     "execution_count": 53,
     "metadata": {},
     "output_type": "execute_result"
    }
   ],
   "source": [
    "(105 - 100) / 100"
   ]
  },
  {
   "cell_type": "code",
   "execution_count": 64,
   "metadata": {},
   "outputs": [
    {
     "data": {
      "text/plain": [
       "0.0"
      ]
     },
     "execution_count": 64,
     "metadata": {},
     "output_type": "execute_result"
    }
   ],
   "source": [
    "(.75 * -1 + .25 * 3) * 27"
   ]
  },
  {
   "cell_type": "code",
   "execution_count": 65,
   "metadata": {},
   "outputs": [
    {
     "name": "stdout",
     "output_type": "stream",
     "text": [
      "2.9068006025152773\n",
      "2.984426343958798\n",
      "2.9974032668226007\n",
      "2.9995671799148957\n",
      "2.999927862451845\n",
      "2.9999879770512154\n",
      "2.9999979961745336\n",
      "2.9999996660290704\n",
      "2.999999944338178\n",
      "2.9999999907230297\n"
     ]
    }
   ],
   "source": [
    "x = math.sqrt(6)\n",
    "for i in range(10):\n",
    "    x = math.sqrt(6 + x)\n",
    "    print(x)"
   ]
  },
  {
   "cell_type": "code",
   "execution_count": 69,
   "metadata": {},
   "outputs": [
    {
     "data": {
      "text/plain": [
       "0.9823998998911476"
      ]
     },
     "execution_count": 69,
     "metadata": {},
     "output_type": "execute_result"
    }
   ],
   "source": [
    "from math import factorial as f\n",
    "total = 0\n",
    "C = lambda n, k: f(n) / (f(k) * f(n - k))\n",
    "p = .5\n",
    "for i in range(0, 61):\n",
    "    total += C(100, i) * p**i * (1 - p)**(100 - i)\n",
    "total"
   ]
  },
  {
   "cell_type": "code",
   "execution_count": 73,
   "metadata": {},
   "outputs": [
    {
     "name": "stderr",
     "output_type": "stream",
     "text": [
      "/anaconda3/lib/python3.6/site-packages/ipykernel_launcher.py:5: RuntimeWarning: divide by zero encountered in true_divide\n",
      "  \"\"\"\n",
      "/anaconda3/lib/python3.6/site-packages/ipykernel_launcher.py:6: RuntimeWarning: invalid value encountered in multiply\n",
      "  \n"
     ]
    },
    {
     "data": {
      "image/png": "[encoded data removed]",
      "text/plain": [
       "<Figure size 432x288 with 1 Axes>"
      ]
     },
     "metadata": {
      "needs_background": "light"
     },
     "output_type": "display_data"
    },
    {
     "data": {
      "text/plain": [
       "5.562689854907557"
      ]
     },
     "execution_count": 73,
     "metadata": {},
     "output_type": "execute_result"
    }
   ],
   "source": [
    "import numpy as np\n",
    "import matplotlib.pyplot as plt\n",
    "\n",
    "def SA(r):\n",
    "    h = 1 / (np.pi * r**2)\n",
    "    return h * 2 * np.pi * r + 2 * np.pi * r**2\n",
    "\n",
    "domain = np.linspace(0, 10, 100)\n",
    "plt.plot(domain, SA(domain))\n",
    "plt.show()\n",
    "\n",
    "np.nanmin(SA(domain))"
   ]
  },
  {
   "cell_type": "code",
   "execution_count": null,
   "metadata": {},
   "outputs": [],
   "source": []
  }
 ],
 "metadata": {
  "kernelspec": {
   "display_name": "Python 3",
   "language": "python",
   "name": "python3"
  },
  "language_info": {
   "codemirror_mode": {
    "name": "ipython",
    "version": 3
   },
   "file_extension": ".py",
   "mimetype": "text/x-python",
   "name": "python",
   "nbconvert_exporter": "python",
   "pygments_lexer": "ipython3",
   "version": "3.6.8"
  }
 },
 "nbformat": 4,
 "nbformat_minor": 2
}
